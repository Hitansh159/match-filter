{
  "nbformat": 4,
  "nbformat_minor": 0,
  "metadata": {
    "colab": {
      "name": "clonvo model.ipynb",
      "provenance": [],
      "mount_file_id": "1L7VEn6p3jFEn2kZgJdPMZBs9UngPn0AM",
      "authorship_tag": "ABX9TyMlyZcb3HcKg3lId65kjQSD",
      "include_colab_link": true
    },
    "kernelspec": {
      "name": "python3",
      "display_name": "Python 3"
    },
    "language_info": {
      "name": "python"
    },
    "accelerator": "GPU"
  },
  "cells": [
    {
      "cell_type": "markdown",
      "metadata": {
        "id": "view-in-github",
        "colab_type": "text"
      },
      "source": [
        "<a href=\"https://colab.research.google.com/github/Hitansh159/match-filter/blob/main/clonvo_model.ipynb\" target=\"_parent\"><img src=\"https://colab.research.google.com/assets/colab-badge.svg\" alt=\"Open In Colab\"/></a>"
      ]
    },
    {
      "cell_type": "code",
      "metadata": {
        "id": "JzeZ0UmkHjgn"
      },
      "source": [
        "!cp drive/MyDrive/dataset.zip ./"
      ],
      "execution_count": 1,
      "outputs": []
    },
    {
      "cell_type": "code",
      "metadata": {
        "colab": {
          "base_uri": "https://localhost:8080/"
        },
        "id": "fcdZYk3NH3nl",
        "outputId": "99c915fe-7c9e-4eac-dd99-e1ad0b9708d9"
      },
      "source": [
        "!unzip *.zip "
      ],
      "execution_count": 2,
      "outputs": [
        {
          "output_type": "stream",
          "name": "stdout",
          "text": [
            "Archive:  dataset.zip\n",
            "   creating: content/dataset/\n",
            "   creating: content/dataset/.ipynb_checkpoints/\n",
            "  inflating: content/dataset/target.csv  \n",
            "   creating: content/dataset/narendra modi/\n",
            "  inflating: content/dataset/narendra modi/173.wav  \n",
            "  inflating: content/dataset/narendra modi/777.wav  \n",
            "  inflating: content/dataset/narendra modi/416.wav  \n",
            "  inflating: content/dataset/narendra modi/555.wav  \n",
            "  inflating: content/dataset/narendra modi/466.wav  \n",
            "  inflating: content/dataset/narendra modi/90.wav  \n",
            "  inflating: content/dataset/narendra modi/381.wav  \n",
            "  inflating: content/dataset/narendra modi/549.wav  \n",
            "  inflating: content/dataset/narendra modi/253.wav  \n",
            "  inflating: content/dataset/narendra modi/356.wav  \n",
            "  inflating: content/dataset/narendra modi/128.wav  \n",
            "  inflating: content/dataset/narendra modi/397.wav  \n",
            "  inflating: content/dataset/narendra modi/430.wav  \n",
            "  inflating: content/dataset/narendra modi/168.wav  \n",
            "  inflating: content/dataset/narendra modi/609.wav  \n",
            "  inflating: content/dataset/narendra modi/248.wav  \n",
            "  inflating: content/dataset/narendra modi/667.wav  \n",
            "  inflating: content/dataset/narendra modi/261.wav  \n",
            "  inflating: content/dataset/narendra modi/277.wav  \n",
            "  inflating: content/dataset/narendra modi/551.wav  \n",
            "  inflating: content/dataset/narendra modi/220.wav  \n",
            "  inflating: content/dataset/narendra modi/575.wav  \n",
            "  inflating: content/dataset/narendra modi/596.wav  \n",
            "  inflating: content/dataset/narendra modi/668.wav  \n",
            "  inflating: content/dataset/narendra modi/690.wav  \n",
            "  inflating: content/dataset/narendra modi/22.wav  \n",
            "  inflating: content/dataset/narendra modi/38.wav  \n",
            "  inflating: content/dataset/narendra modi/276.wav  \n",
            "  inflating: content/dataset/narendra modi/669.wav  \n",
            "  inflating: content/dataset/narendra modi/21.wav  \n",
            "  inflating: content/dataset/narendra modi/37.wav  \n",
            "  inflating: content/dataset/narendra modi/93.wav  \n",
            "  inflating: content/dataset/narendra modi/174.wav  \n",
            "  inflating: content/dataset/narendra modi/445.wav  \n",
            "  inflating: content/dataset/narendra modi/515.wav  \n",
            "  inflating: content/dataset/narendra modi/725.wav  \n",
            "  inflating: content/dataset/narendra modi/680.wav  \n",
            "  inflating: content/dataset/narendra modi/214.wav  \n",
            "  inflating: content/dataset/narendra modi/624.wav  \n",
            "  inflating: content/dataset/narendra modi/481.wav  \n",
            "  inflating: content/dataset/narendra modi/759.wav  \n",
            "  inflating: content/dataset/narendra modi/305.wav  \n",
            "  inflating: content/dataset/narendra modi/403.wav  \n",
            "  inflating: content/dataset/narendra modi/423.wav  \n",
            "  inflating: content/dataset/narendra modi/735.wav  \n",
            "  inflating: content/dataset/narendra modi/120.wav  \n",
            "  inflating: content/dataset/narendra modi/10.wav  \n",
            "  inflating: content/dataset/narendra modi/656.wav  \n",
            "  inflating: content/dataset/narendra modi/105.wav  \n",
            "  inflating: content/dataset/narendra modi/74.wav  \n",
            "  inflating: content/dataset/narendra modi/409.wav  \n",
            "  inflating: content/dataset/narendra modi/533.wav  \n",
            "  inflating: content/dataset/narendra modi/60.wav  \n",
            "  inflating: content/dataset/narendra modi/236.wav  \n",
            "  inflating: content/dataset/narendra modi/469.wav  \n",
            "  inflating: content/dataset/narendra modi/224.wav  \n",
            "  inflating: content/dataset/narendra modi/41.wav  \n",
            "  inflating: content/dataset/narendra modi/141.wav  \n",
            "  inflating: content/dataset/narendra modi/544.wav  \n",
            "  inflating: content/dataset/narendra modi/650.wav  \n",
            "  inflating: content/dataset/narendra modi/611.wav  \n",
            "  inflating: content/dataset/narendra modi/663.wav  \n",
            "  inflating: content/dataset/narendra modi/540.wav  \n",
            "  inflating: content/dataset/narendra modi/600.wav  \n",
            "  inflating: content/dataset/narendra modi/721.wav  \n",
            "  inflating: content/dataset/narendra modi/743.wav  \n",
            "  inflating: content/dataset/narendra modi/700.wav  \n",
            "  inflating: content/dataset/narendra modi/738.wav  \n",
            "  inflating: content/dataset/narendra modi/786.wav  \n",
            "  inflating: content/dataset/narendra modi/197.wav  \n",
            "  inflating: content/dataset/narendra modi/100.wav  \n",
            "  inflating: content/dataset/narendra modi/46.wav  \n",
            "  inflating: content/dataset/narendra modi/630.wav  \n",
            "  inflating: content/dataset/narendra modi/70.wav  \n",
            "  inflating: content/dataset/narendra modi/218.wav  \n",
            "  inflating: content/dataset/narendra modi/263.wav  \n",
            "  inflating: content/dataset/narendra modi/780.wav  \n",
            "  inflating: content/dataset/narendra modi/425.wav  \n",
            "  inflating: content/dataset/narendra modi/395.wav  \n",
            "  inflating: content/dataset/narendra modi/730.wav  \n",
            "  inflating: content/dataset/narendra modi/707.wav  \n",
            "  inflating: content/dataset/narendra modi/163.wav  \n",
            "  inflating: content/dataset/narendra modi/19.wav  \n",
            "  inflating: content/dataset/narendra modi/199.wav  \n",
            "  inflating: content/dataset/narendra modi/359.wav  \n",
            "  inflating: content/dataset/narendra modi/235.wav  \n",
            "  inflating: content/dataset/narendra modi/651.wav  \n",
            "  inflating: content/dataset/narendra modi/418.wav  \n",
            "  inflating: content/dataset/narendra modi/493.wav  \n",
            "  inflating: content/dataset/narendra modi/79.wav  \n",
            "  inflating: content/dataset/narendra modi/73.wav  \n",
            "  inflating: content/dataset/narendra modi/491.wav  \n",
            "  inflating: content/dataset/narendra modi/702.wav  \n",
            "  inflating: content/dataset/narendra modi/733.wav  \n",
            "  inflating: content/dataset/narendra modi/763.wav  \n",
            "  inflating: content/dataset/narendra modi/666.wav  \n",
            "  inflating: content/dataset/narendra modi/212.wav  \n",
            "  inflating: content/dataset/narendra modi/82.wav  \n",
            "  inflating: content/dataset/narendra modi/326.wav  \n",
            "  inflating: content/dataset/narendra modi/367.wav  \n",
            "  inflating: content/dataset/narendra modi/648.wav  \n",
            "  inflating: content/dataset/narendra modi/103.wav  \n",
            "  inflating: content/dataset/narendra modi/435.wav  \n",
            "  inflating: content/dataset/narendra modi/341.wav  \n",
            "  inflating: content/dataset/narendra modi/241.wav  \n",
            "  inflating: content/dataset/narendra modi/295.wav  \n",
            "  inflating: content/dataset/narendra modi/371.wav  \n",
            "  inflating: content/dataset/narendra modi/492.wav  \n",
            "  inflating: content/dataset/narendra modi/288.wav  \n",
            "  inflating: content/dataset/narendra modi/374.wav  \n",
            "  inflating: content/dataset/narendra modi/291.wav  \n",
            "  inflating: content/dataset/narendra modi/392.wav  \n",
            "  inflating: content/dataset/narendra modi/813.wav  \n",
            "  inflating: content/dataset/narendra modi/380.wav  \n",
            "  inflating: content/dataset/narendra modi/587.wav  \n",
            "  inflating: content/dataset/narendra modi/503.wav  \n",
            "  inflating: content/dataset/narendra modi/498.wav  \n",
            "  inflating: content/dataset/narendra modi/639.wav  \n",
            "  inflating: content/dataset/narendra modi/535.wav  \n",
            "  inflating: content/dataset/narendra modi/185.wav  \n",
            "  inflating: content/dataset/narendra modi/796.wav  \n",
            "  inflating: content/dataset/narendra modi/419.wav  \n",
            "  inflating: content/dataset/narendra modi/201.wav  \n",
            "  inflating: content/dataset/narendra modi/15.wav  \n",
            "  inflating: content/dataset/narendra modi/279.wav  \n",
            "  inflating: content/dataset/narendra modi/148.wav  \n",
            "  inflating: content/dataset/narendra modi/167.wav  \n",
            "  inflating: content/dataset/narendra modi/709.wav  \n",
            "  inflating: content/dataset/narendra modi/0.wav  \n",
            "  inflating: content/dataset/narendra modi/559.wav  \n",
            "  inflating: content/dataset/narendra modi/758.wav  \n",
            "  inflating: content/dataset/narendra modi/213.wav  \n",
            "  inflating: content/dataset/narendra modi/661.wav  \n",
            "  inflating: content/dataset/narendra modi/8.wav  \n",
            "  inflating: content/dataset/narendra modi/294.wav  \n",
            "  inflating: content/dataset/narendra modi/33.wav  \n",
            "  inflating: content/dataset/narendra modi/191.wav  \n",
            "  inflating: content/dataset/narendra modi/29.wav  \n",
            "  inflating: content/dataset/narendra modi/51.wav  \n",
            "  inflating: content/dataset/narendra modi/365.wav  \n",
            "  inflating: content/dataset/narendra modi/375.wav  \n",
            "  inflating: content/dataset/narendra modi/775.wav  \n",
            "  inflating: content/dataset/narendra modi/145.wav  \n",
            "  inflating: content/dataset/narendra modi/722.wav  \n",
            "  inflating: content/dataset/narendra modi/527.wav  \n",
            "  inflating: content/dataset/narendra modi/318.wav  \n",
            "  inflating: content/dataset/narendra modi/626.wav  \n",
            "  inflating: content/dataset/narendra modi/176.wav  \n",
            "  inflating: content/dataset/narendra modi/377.wav  \n",
            "  inflating: content/dataset/narendra modi/140.wav  \n",
            "  inflating: content/dataset/narendra modi/170.wav  \n",
            "  inflating: content/dataset/narendra modi/334.wav  \n",
            "  inflating: content/dataset/narendra modi/591.wav  \n",
            "  inflating: content/dataset/narendra modi/804.wav  \n",
            "  inflating: content/dataset/narendra modi/67.wav  \n",
            "  inflating: content/dataset/narendra modi/296.wav  \n",
            "  inflating: content/dataset/narendra modi/32.wav  \n",
            "  inflating: content/dataset/narendra modi/87.wav  \n",
            "  inflating: content/dataset/narendra modi/747.wav  \n",
            "  inflating: content/dataset/narendra modi/522.wav  \n",
            "  inflating: content/dataset/narendra modi/394.wav  \n",
            "  inflating: content/dataset/narendra modi/605.wav  \n",
            "  inflating: content/dataset/narendra modi/815.wav  \n",
            "  inflating: content/dataset/narendra modi/546.wav  \n",
            "  inflating: content/dataset/narendra modi/635.wav  \n",
            "  inflating: content/dataset/narendra modi/57.wav  \n",
            "  inflating: content/dataset/narendra modi/463.wav  \n",
            "  inflating: content/dataset/narendra modi/478.wav  \n",
            "  inflating: content/dataset/narendra modi/187.wav  \n",
            "  inflating: content/dataset/narendra modi/556.wav  \n",
            "  inflating: content/dataset/narendra modi/617.wav  \n",
            "  inflating: content/dataset/narendra modi/6.wav  \n",
            "  inflating: content/dataset/narendra modi/142.wav  \n",
            "  inflating: content/dataset/narendra modi/155.wav  \n",
            "  inflating: content/dataset/narendra modi/471.wav  \n",
            "  inflating: content/dataset/narendra modi/519.wav  \n",
            "  inflating: content/dataset/narendra modi/647.wav  \n",
            "  inflating: content/dataset/narendra modi/778.wav  \n",
            "  inflating: content/dataset/narendra modi/5.wav  \n",
            "  inflating: content/dataset/narendra modi/132.wav  \n",
            "  inflating: content/dataset/narendra modi/530.wav  \n",
            "  inflating: content/dataset/narendra modi/407.wav  \n",
            "  inflating: content/dataset/narendra modi/446.wav  \n",
            "  inflating: content/dataset/narendra modi/76.wav  \n",
            "  inflating: content/dataset/narendra modi/119.wav  \n",
            "  inflating: content/dataset/narendra modi/225.wav  \n",
            "  inflating: content/dataset/narendra modi/230.wav  \n",
            "  inflating: content/dataset/narendra modi/771.wav  \n",
            "  inflating: content/dataset/narendra modi/779.wav  \n",
            "  inflating: content/dataset/narendra modi/23.wav  \n",
            "  inflating: content/dataset/narendra modi/674.wav  \n",
            "  inflating: content/dataset/narendra modi/467.wav  \n",
            "  inflating: content/dataset/narendra modi/234.wav  \n",
            "  inflating: content/dataset/narendra modi/247.wav  \n",
            "  inflating: content/dataset/narendra modi/129.wav  \n",
            "  inflating: content/dataset/narendra modi/732.wav  \n",
            "  inflating: content/dataset/narendra modi/269.wav  \n",
            "  inflating: content/dataset/narendra modi/243.wav  \n",
            "  inflating: content/dataset/narendra modi/772.wav  \n",
            "  inflating: content/dataset/narendra modi/308.wav  \n",
            "  inflating: content/dataset/narendra modi/335.wav  \n",
            "  inflating: content/dataset/narendra modi/415.wav  \n",
            "  inflating: content/dataset/narendra modi/691.wav  \n",
            "  inflating: content/dataset/narendra modi/545.wav  \n",
            "  inflating: content/dataset/narendra modi/42.wav  \n",
            "  inflating: content/dataset/narendra modi/584.wav  \n",
            "  inflating: content/dataset/narendra modi/50.wav  \n",
            "  inflating: content/dataset/narendra modi/621.wav  \n",
            "  inflating: content/dataset/narendra modi/316.wav  \n",
            "  inflating: content/dataset/narendra modi/385.wav  \n",
            "  inflating: content/dataset/narendra modi/346.wav  \n",
            "  inflating: content/dataset/narendra modi/203.wav  \n",
            "  inflating: content/dataset/narendra modi/312.wav  \n",
            "  inflating: content/dataset/narendra modi/675.wav  \n",
            "  inflating: content/dataset/narendra modi/342.wav  \n",
            "  inflating: content/dataset/narendra modi/164.wav  \n",
            "  inflating: content/dataset/narendra modi/7.wav  \n",
            "  inflating: content/dataset/narendra modi/355.wav  \n",
            "  inflating: content/dataset/narendra modi/601.wav  \n",
            "  inflating: content/dataset/narendra modi/583.wav  \n",
            "  inflating: content/dataset/narendra modi/521.wav  \n",
            "  inflating: content/dataset/narendra modi/486.wav  \n",
            "  inflating: content/dataset/narendra modi/724.wav  \n",
            "  inflating: content/dataset/narendra modi/457.wav  \n",
            "  inflating: content/dataset/narendra modi/464.wav  \n",
            "  inflating: content/dataset/narendra modi/619.wav  \n",
            "  inflating: content/dataset/narendra modi/560.wav  \n",
            "  inflating: content/dataset/narendra modi/582.wav  \n",
            "  inflating: content/dataset/narendra modi/683.wav  \n",
            "  inflating: content/dataset/narendra modi/307.wav  \n",
            "  inflating: content/dataset/narendra modi/814.wav  \n",
            "  inflating: content/dataset/narendra modi/180.wav  \n",
            "  inflating: content/dataset/narendra modi/610.wav  \n",
            "  inflating: content/dataset/narendra modi/572.wav  \n",
            "  inflating: content/dataset/narendra modi/329.wav  \n",
            "  inflating: content/dataset/narendra modi/484.wav  \n",
            "  inflating: content/dataset/narendra modi/303.wav  \n",
            "  inflating: content/dataset/narendra modi/576.wav  \n",
            "  inflating: content/dataset/narendra modi/599.wav  \n",
            "  inflating: content/dataset/narendra modi/539.wav  \n",
            "  inflating: content/dataset/narendra modi/49.wav  \n",
            "  inflating: content/dataset/narendra modi/232.wav  \n",
            "  inflating: content/dataset/narendra modi/505.wav  \n",
            "  inflating: content/dataset/narendra modi/339.wav  \n",
            "  inflating: content/dataset/narendra modi/77.wav  \n",
            "  inflating: content/dataset/narendra modi/676.wav  \n",
            "  inflating: content/dataset/narendra modi/679.wav  \n",
            "  inflating: content/dataset/narendra modi/727.wav  \n",
            "  inflating: content/dataset/narendra modi/24.wav  \n",
            "  inflating: content/dataset/narendra modi/320.wav  \n",
            "  inflating: content/dataset/narendra modi/744.wav  \n",
            "  inflating: content/dataset/narendra modi/193.wav  \n",
            "  inflating: content/dataset/narendra modi/495.wav  \n",
            "  inflating: content/dataset/narendra modi/66.wav  \n",
            "  inflating: content/dataset/narendra modi/336.wav  \n",
            "  inflating: content/dataset/narendra modi/3.wav  \n",
            "  inflating: content/dataset/narendra modi/349.wav  \n",
            "  inflating: content/dataset/narendra modi/745.wav  \n",
            "  inflating: content/dataset/narendra modi/58.wav  \n",
            "  inflating: content/dataset/narendra modi/379.wav  \n",
            "  inflating: content/dataset/narendra modi/693.wav  \n",
            "  inflating: content/dataset/narendra modi/620.wav  \n",
            "  inflating: content/dataset/narendra modi/590.wav  \n",
            "  inflating: content/dataset/narendra modi/490.wav  \n",
            "  inflating: content/dataset/narendra modi/603.wav  \n",
            "  inflating: content/dataset/narendra modi/404.wav  \n",
            "  inflating: content/dataset/narendra modi/809.wav  \n",
            "  inflating: content/dataset/narendra modi/665.wav  \n",
            "  inflating: content/dataset/narendra modi/685.wav  \n",
            "  inflating: content/dataset/narendra modi/754.wav  \n",
            "  inflating: content/dataset/narendra modi/684.wav  \n",
            "  inflating: content/dataset/narendra modi/275.wav  \n",
            "  inflating: content/dataset/narendra modi/427.wav  \n",
            "  inflating: content/dataset/narendra modi/592.wav  \n",
            "  inflating: content/dataset/narendra modi/593.wav  \n",
            "  inflating: content/dataset/narendra modi/184.wav  \n",
            "  inflating: content/dataset/narendra modi/712.wav  \n",
            "  inflating: content/dataset/narendra modi/608.wav  \n",
            "  inflating: content/dataset/narendra modi/642.wav  \n",
            "  inflating: content/dataset/narendra modi/257.wav  \n",
            "  inflating: content/dataset/narendra modi/71.wav  \n",
            "  inflating: content/dataset/narendra modi/673.wav  \n",
            "  inflating: content/dataset/narendra modi/271.wav  \n",
            "  inflating: content/dataset/narendra modi/239.wav  \n",
            "  inflating: content/dataset/narendra modi/183.wav  \n",
            "  inflating: content/dataset/narendra modi/39.wav  \n",
            "  inflating: content/dataset/narendra modi/795.wav  \n",
            "  inflating: content/dataset/narendra modi/376.wav  \n",
            "  inflating: content/dataset/narendra modi/792.wav  \n",
            "  inflating: content/dataset/narendra modi/586.wav  \n",
            "  inflating: content/dataset/narendra modi/306.wav  \n",
            "  inflating: content/dataset/narendra modi/808.wav  \n",
            "  inflating: content/dataset/narendra modi/48.wav  \n",
            "  inflating: content/dataset/narendra modi/567.wav  \n",
            "  inflating: content/dataset/narendra modi/357.wav  \n",
            "  inflating: content/dataset/narendra modi/123.wav  \n",
            "  inflating: content/dataset/narendra modi/186.wav  \n",
            "  inflating: content/dataset/narendra modi/315.wav  \n",
            "  inflating: content/dataset/narendra modi/547.wav  \n",
            "  inflating: content/dataset/narendra modi/536.wav  \n",
            "  inflating: content/dataset/narendra modi/414.wav  \n",
            "  inflating: content/dataset/narendra modi/756.wav  \n",
            "  inflating: content/dataset/narendra modi/436.wav  \n",
            "  inflating: content/dataset/narendra modi/324.wav  \n",
            "  inflating: content/dataset/narendra modi/102.wav  \n",
            "  inflating: content/dataset/narendra modi/266.wav  \n",
            "  inflating: content/dataset/narendra modi/713.wav  \n",
            "  inflating: content/dataset/narendra modi/114.wav  \n",
            "  inflating: content/dataset/narendra modi/292.wav  \n",
            "  inflating: content/dataset/narendra modi/614.wav  \n",
            "  inflating: content/dataset/narendra modi/634.wav  \n",
            "  inflating: content/dataset/narendra modi/736.wav  \n",
            "  inflating: content/dataset/narendra modi/428.wav  \n",
            "  inflating: content/dataset/narendra modi/343.wav  \n",
            "  inflating: content/dataset/narendra modi/265.wav  \n",
            "  inflating: content/dataset/narendra modi/65.wav  \n",
            "  inflating: content/dataset/narendra modi/196.wav  \n",
            "  inflating: content/dataset/narendra modi/525.wav  \n",
            "  inflating: content/dataset/narendra modi/516.wav  \n",
            "  inflating: content/dataset/narendra modi/604.wav  \n",
            "  inflating: content/dataset/narendra modi/694.wav  \n",
            "  inflating: content/dataset/narendra modi/181.wav  \n",
            "  inflating: content/dataset/narendra modi/437.wav  \n",
            "  inflating: content/dataset/narendra modi/152.wav  \n",
            "  inflating: content/dataset/narendra modi/578.wav  \n",
            "  inflating: content/dataset/narendra modi/226.wav  \n",
            "  inflating: content/dataset/narendra modi/475.wav  \n",
            "  inflating: content/dataset/narendra modi/262.wav  \n",
            "  inflating: content/dataset/narendra modi/256.wav  \n",
            "  inflating: content/dataset/narendra modi/179.wav  \n",
            "  inflating: content/dataset/narendra modi/422.wav  \n",
            "  inflating: content/dataset/narendra modi/588.wav  \n",
            "  inflating: content/dataset/narendra modi/122.wav  \n",
            "  inflating: content/dataset/narendra modi/337.wav  \n",
            "  inflating: content/dataset/narendra modi/512.wav  \n",
            "  inflating: content/dataset/narendra modi/746.wav  \n",
            "  inflating: content/dataset/narendra modi/638.wav  \n",
            "  inflating: content/dataset/narendra modi/645.wav  \n",
            "  inflating: content/dataset/narendra modi/710.wav  \n",
            "  inflating: content/dataset/narendra modi/2.wav  \n",
            "  inflating: content/dataset/narendra modi/260.wav  \n",
            "  inflating: content/dataset/narendra modi/424.wav  \n",
            "  inflating: content/dataset/narendra modi/476.wav  \n",
            "  inflating: content/dataset/narendra modi/480.wav  \n",
            "  inflating: content/dataset/narendra modi/198.wav  \n",
            "  inflating: content/dataset/narendra modi/322.wav  \n",
            "  inflating: content/dataset/narendra modi/286.wav  \n",
            "  inflating: content/dataset/narendra modi/34.wav  \n",
            "  inflating: content/dataset/narendra modi/290.wav  \n",
            "  inflating: content/dataset/narendra modi/91.wav  \n",
            "  inflating: content/dataset/narendra modi/801.wav  \n",
            "  inflating: content/dataset/narendra modi/749.wav  \n",
            "  inflating: content/dataset/narendra modi/494.wav  \n",
            "  inflating: content/dataset/narendra modi/753.wav  \n",
            "  inflating: content/dataset/narendra modi/420.wav  \n",
            "  inflating: content/dataset/narendra modi/398.wav  \n",
            "  inflating: content/dataset/narendra modi/36.wav  \n",
            "  inflating: content/dataset/narendra modi/757.wav  \n",
            "  inflating: content/dataset/narendra modi/660.wav  \n",
            "  inflating: content/dataset/narendra modi/442.wav  \n",
            "  inflating: content/dataset/narendra modi/287.wav  \n",
            "  inflating: content/dataset/narendra modi/9.wav  \n",
            "  inflating: content/dataset/narendra modi/514.wav  \n",
            "  inflating: content/dataset/narendra modi/646.wav  \n",
            "  inflating: content/dataset/narendra modi/628.wav  \n",
            "  inflating: content/dataset/narendra modi/64.wav  \n",
            "  inflating: content/dataset/narendra modi/94.wav  \n",
            "  inflating: content/dataset/narendra modi/734.wav  \n",
            "  inflating: content/dataset/narendra modi/31.wav  \n",
            "  inflating: content/dataset/narendra modi/558.wav  \n",
            "  inflating: content/dataset/narendra modi/348.wav  \n",
            "  inflating: content/dataset/narendra modi/781.wav  \n",
            "  inflating: content/dataset/narendra modi/658.wav  \n",
            "  inflating: content/dataset/narendra modi/124.wav  \n",
            "  inflating: content/dataset/narendra modi/465.wav  \n",
            "  inflating: content/dataset/narendra modi/405.wav  \n",
            "  inflating: content/dataset/narendra modi/26.wav  \n",
            "  inflating: content/dataset/narendra modi/175.wav  \n",
            "  inflating: content/dataset/narendra modi/109.wav  \n",
            "  inflating: content/dataset/narendra modi/208.wav  \n",
            "  inflating: content/dataset/narendra modi/340.wav  \n",
            "  inflating: content/dataset/narendra modi/511.wav  \n",
            "  inflating: content/dataset/narendra modi/338.wav  \n",
            "  inflating: content/dataset/narendra modi/719.wav  \n",
            "  inflating: content/dataset/narendra modi/137.wav  \n",
            "  inflating: content/dataset/narendra modi/364.wav  \n",
            "  inflating: content/dataset/narendra modi/331.wav  \n",
            "  inflating: content/dataset/narendra modi/562.wav  \n",
            "  inflating: content/dataset/narendra modi/548.wav  \n",
            "  inflating: content/dataset/narendra modi/310.wav  \n",
            "  inflating: content/dataset/narendra modi/309.wav  \n",
            "  inflating: content/dataset/narendra modi/115.wav  \n",
            "  inflating: content/dataset/narendra modi/506.wav  \n",
            "  inflating: content/dataset/narendra modi/111.wav  \n",
            "  inflating: content/dataset/narendra modi/453.wav  \n",
            "  inflating: content/dataset/narendra modi/412.wav  \n",
            "  inflating: content/dataset/narendra modi/508.wav  \n",
            "  inflating: content/dataset/narendra modi/613.wav  \n",
            "  inflating: content/dataset/narendra modi/1.wav  \n",
            "  inflating: content/dataset/narendra modi/373.wav  \n",
            "  inflating: content/dataset/narendra modi/177.wav  \n",
            "  inflating: content/dataset/narendra modi/149.wav  \n",
            "  inflating: content/dataset/narendra modi/500.wav  \n",
            "  inflating: content/dataset/narendra modi/254.wav  \n",
            "  inflating: content/dataset/narendra modi/550.wav  \n",
            "  inflating: content/dataset/narendra modi/774.wav  \n",
            "  inflating: content/dataset/narendra modi/739.wav  \n",
            "  inflating: content/dataset/narendra modi/83.wav  \n",
            "  inflating: content/dataset/narendra modi/455.wav  \n",
            "  inflating: content/dataset/narendra modi/209.wav  \n",
            "  inflating: content/dataset/narendra modi/81.wav  \n",
            "  inflating: content/dataset/narendra modi/147.wav  \n",
            "  inflating: content/dataset/narendra modi/200.wav  \n",
            "  inflating: content/dataset/narendra modi/204.wav  \n",
            "  inflating: content/dataset/narendra modi/692.wav  \n",
            "  inflating: content/dataset/narendra modi/354.wav  \n",
            "  inflating: content/dataset/narendra modi/543.wav  \n",
            "  inflating: content/dataset/narendra modi/571.wav  \n",
            "  inflating: content/dataset/narendra modi/488.wav  \n",
            "  inflating: content/dataset/narendra modi/431.wav  \n",
            "  inflating: content/dataset/narendra modi/228.wav  \n",
            "  inflating: content/dataset/narendra modi/166.wav  \n",
            "  inflating: content/dataset/narendra modi/641.wav  \n",
            "  inflating: content/dataset/narendra modi/44.wav  \n",
            "  inflating: content/dataset/narendra modi/136.wav  \n",
            "  inflating: content/dataset/narendra modi/390.wav  \n",
            "  inflating: content/dataset/narendra modi/165.wav  \n",
            "  inflating: content/dataset/narendra modi/400.wav  \n",
            "  inflating: content/dataset/narendra modi/767.wav  \n",
            "  inflating: content/dataset/narendra modi/68.wav  \n",
            "  inflating: content/dataset/narendra modi/249.wav  \n",
            "  inflating: content/dataset/narendra modi/742.wav  \n",
            "  inflating: content/dataset/narendra modi/104.wav  \n",
            "  inflating: content/dataset/narendra modi/130.wav  \n",
            "  inflating: content/dataset/narendra modi/440.wav  \n",
            "  inflating: content/dataset/narendra modi/473.wav  \n",
            "  inflating: content/dataset/narendra modi/606.wav  \n",
            "  inflating: content/dataset/narendra modi/633.wav  \n",
            "  inflating: content/dataset/narendra modi/389.wav  \n",
            "  inflating: content/dataset/narendra modi/387.wav  \n",
            "  inflating: content/dataset/narendra modi/541.wav  \n",
            "  inflating: content/dataset/narendra modi/797.wav  \n",
            "  inflating: content/dataset/narendra modi/370.wav  \n",
            "  inflating: content/dataset/narendra modi/750.wav  \n",
            "  inflating: content/dataset/narendra modi/330.wav  \n",
            "  inflating: content/dataset/narendra modi/607.wav  \n",
            "  inflating: content/dataset/narendra modi/14.wav  \n",
            "  inflating: content/dataset/narendra modi/144.wav  \n",
            "  inflating: content/dataset/narendra modi/716.wav  \n",
            "  inflating: content/dataset/narendra modi/701.wav  \n",
            "  inflating: content/dataset/narendra modi/622.wav  \n",
            "  inflating: content/dataset/narendra modi/740.wav  \n",
            "  inflating: content/dataset/narendra modi/267.wav  \n",
            "  inflating: content/dataset/narendra modi/561.wav  \n",
            "  inflating: content/dataset/narendra modi/810.wav  \n",
            "  inflating: content/dataset/narendra modi/160.wav  \n",
            "  inflating: content/dataset/narendra modi/244.wav  \n",
            "  inflating: content/dataset/narendra modi/776.wav  \n",
            "  inflating: content/dataset/narendra modi/677.wav  \n",
            "  inflating: content/dataset/narendra modi/189.wav  \n",
            "  inflating: content/dataset/narendra modi/577.wav  \n",
            "  inflating: content/dataset/narendra modi/55.wav  \n",
            "  inflating: content/dataset/narendra modi/581.wav  \n",
            "  inflating: content/dataset/narendra modi/598.wav  \n",
            "  inflating: content/dataset/narendra modi/96.wav  \n",
            "  inflating: content/dataset/narendra modi/399.wav  \n",
            "  inflating: content/dataset/narendra modi/720.wav  \n",
            "  inflating: content/dataset/narendra modi/205.wav  \n",
            "  inflating: content/dataset/narendra modi/238.wav  \n",
            "  inflating: content/dataset/narendra modi/655.wav  \n",
            "  inflating: content/dataset/narendra modi/97.wav  \n",
            "  inflating: content/dataset/narendra modi/388.wav  \n",
            "  inflating: content/dataset/narendra modi/219.wav  \n",
            "  inflating: content/dataset/narendra modi/811.wav  \n",
            "  inflating: content/dataset/narendra modi/13.wav  \n",
            "  inflating: content/dataset/narendra modi/782.wav  \n",
            "  inflating: content/dataset/narendra modi/573.wav  \n",
            "  inflating: content/dataset/narendra modi/210.wav  \n",
            "  inflating: content/dataset/narendra modi/328.wav  \n",
            "  inflating: content/dataset/narendra modi/121.wav  \n",
            "  inflating: content/dataset/narendra modi/284.wav  \n",
            "  inflating: content/dataset/narendra modi/382.wav  \n",
            "  inflating: content/dataset/narendra modi/302.wav  \n",
            "  inflating: content/dataset/narendra modi/131.wav  \n",
            "  inflating: content/dataset/narendra modi/800.wav  \n",
            "  inflating: content/dataset/narendra modi/504.wav  \n",
            "  inflating: content/dataset/narendra modi/760.wav  \n",
            "  inflating: content/dataset/narendra modi/211.wav  \n",
            "  inflating: content/dataset/narendra modi/802.wav  \n",
            "  inflating: content/dataset/narendra modi/151.wav  \n",
            "  inflating: content/dataset/narendra modi/783.wav  \n",
            "  inflating: content/dataset/narendra modi/84.wav  \n",
            "  inflating: content/dataset/narendra modi/449.wav  \n",
            "  inflating: content/dataset/narendra modi/62.wav  \n",
            "  inflating: content/dataset/narendra modi/190.wav  \n",
            "  inflating: content/dataset/narendra modi/344.wav  \n",
            "  inflating: content/dataset/narendra modi/293.wav  \n",
            "  inflating: content/dataset/narendra modi/698.wav  \n",
            "  inflating: content/dataset/narendra modi/741.wav  \n",
            "  inflating: content/dataset/narendra modi/192.wav  \n",
            "  inflating: content/dataset/narendra modi/708.wav  \n",
            "  inflating: content/dataset/narendra modi/202.wav  \n",
            "  inflating: content/dataset/narendra modi/711.wav  \n",
            "  inflating: content/dataset/narendra modi/252.wav  \n",
            "  inflating: content/dataset/narendra modi/518.wav  \n",
            "  inflating: content/dataset/narendra modi/80.wav  \n",
            "  inflating: content/dataset/narendra modi/283.wav  \n",
            "  inflating: content/dataset/narendra modi/45.wav  \n",
            "  inflating: content/dataset/narendra modi/703.wav  \n",
            "  inflating: content/dataset/narendra modi/319.wav  \n",
            "  inflating: content/dataset/narendra modi/454.wav  \n",
            "  inflating: content/dataset/narendra modi/765.wav  \n",
            "  inflating: content/dataset/narendra modi/171.wav  \n",
            "  inflating: content/dataset/narendra modi/255.wav  \n",
            "  inflating: content/dataset/narendra modi/426.wav  \n",
            "  inflating: content/dataset/narendra modi/182.wav  \n",
            "  inflating: content/dataset/narendra modi/240.wav  \n",
            "  inflating: content/dataset/narendra modi/612.wav  \n",
            "  inflating: content/dataset/narendra modi/731.wav  \n",
            "  inflating: content/dataset/narendra modi/59.wav  \n",
            "  inflating: content/dataset/narendra modi/483.wav  \n",
            "  inflating: content/dataset/narendra modi/17.wav  \n",
            "  inflating: content/dataset/narendra modi/627.wav  \n",
            "  inflating: content/dataset/narendra modi/629.wav  \n",
            "  inflating: content/dataset/narendra modi/237.wav  \n",
            "  inflating: content/dataset/narendra modi/510.wav  \n",
            "  inflating: content/dataset/narendra modi/615.wav  \n",
            "  inflating: content/dataset/narendra modi/485.wav  \n",
            "  inflating: content/dataset/narendra modi/529.wav  \n",
            "  inflating: content/dataset/narendra modi/715.wav  \n",
            "  inflating: content/dataset/narendra modi/752.wav  \n",
            "  inflating: content/dataset/narendra modi/278.wav  \n",
            "  inflating: content/dataset/narendra modi/537.wav  \n",
            "  inflating: content/dataset/narendra modi/788.wav  \n",
            "  inflating: content/dataset/narendra modi/489.wav  \n",
            "  inflating: content/dataset/narendra modi/146.wav  \n",
            "  inflating: content/dataset/narendra modi/150.wav  \n",
            "  inflating: content/dataset/narendra modi/169.wav  \n",
            "  inflating: content/dataset/narendra modi/352.wav  \n",
            "  inflating: content/dataset/narendra modi/705.wav  \n",
            "  inflating: content/dataset/narendra modi/472.wav  \n",
            "  inflating: content/dataset/narendra modi/304.wav  \n",
            "  inflating: content/dataset/narendra modi/468.wav  \n",
            "  inflating: content/dataset/narendra modi/568.wav  \n",
            "  inflating: content/dataset/narendra modi/178.wav  \n",
            "  inflating: content/dataset/narendra modi/579.wav  \n",
            "  inflating: content/dataset/narendra modi/229.wav  \n",
            "  inflating: content/dataset/narendra modi/89.wav  \n",
            "  inflating: content/dataset/narendra modi/594.wav  \n",
            "  inflating: content/dataset/narendra modi/552.wav  \n",
            "  inflating: content/dataset/narendra modi/462.wav  \n",
            "  inflating: content/dataset/narendra modi/313.wav  \n",
            "  inflating: content/dataset/narendra modi/460.wav  \n",
            "  inflating: content/dataset/narendra modi/542.wav  \n",
            "  inflating: content/dataset/narendra modi/448.wav  \n",
            "  inflating: content/dataset/narendra modi/161.wav  \n",
            "  inflating: content/dataset/narendra modi/158.wav  \n",
            "  inflating: content/dataset/narendra modi/216.wav  \n",
            "  inflating: content/dataset/narendra modi/333.wav  \n",
            "  inflating: content/dataset/narendra modi/672.wav  \n",
            "  inflating: content/dataset/narendra modi/280.wav  \n",
            "  inflating: content/dataset/narendra modi/402.wav  \n",
            "  inflating: content/dataset/narendra modi/323.wav  \n",
            "  inflating: content/dataset/narendra modi/107.wav  \n",
            "  inflating: content/dataset/narendra modi/92.wav  \n",
            "  inflating: content/dataset/narendra modi/773.wav  \n",
            "  inflating: content/dataset/narendra modi/806.wav  \n",
            "  inflating: content/dataset/narendra modi/72.wav  \n",
            "  inflating: content/dataset/narendra modi/106.wav  \n",
            "  inflating: content/dataset/narendra modi/361.wav  \n",
            "  inflating: content/dataset/narendra modi/350.wav  \n",
            "  inflating: content/dataset/narendra modi/285.wav  \n",
            "  inflating: content/dataset/narendra modi/353.wav  \n",
            "  inflating: content/dataset/narendra modi/264.wav  \n",
            "  inflating: content/dataset/narendra modi/502.wav  \n",
            "  inflating: content/dataset/narendra modi/632.wav  \n",
            "  inflating: content/dataset/narendra modi/358.wav  \n",
            "  inflating: content/dataset/narendra modi/766.wav  \n",
            "  inflating: content/dataset/narendra modi/242.wav  \n",
            "  inflating: content/dataset/narendra modi/574.wav  \n",
            "  inflating: content/dataset/narendra modi/450.wav  \n",
            "  inflating: content/dataset/narendra modi/154.wav  \n",
            "  inflating: content/dataset/narendra modi/157.wav  \n",
            "  inflating: content/dataset/narendra modi/564.wav  \n",
            "  inflating: content/dataset/narendra modi/245.wav  \n",
            "  inflating: content/dataset/narendra modi/618.wav  \n",
            "  inflating: content/dataset/narendra modi/497.wav  \n",
            "  inflating: content/dataset/narendra modi/372.wav  \n",
            "  inflating: content/dataset/narendra modi/408.wav  \n",
            "  inflating: content/dataset/narendra modi/523.wav  \n",
            "  inflating: content/dataset/narendra modi/597.wav  \n",
            "  inflating: content/dataset/narendra modi/474.wav  \n",
            "  inflating: content/dataset/narendra modi/496.wav  \n",
            "  inflating: content/dataset/narendra modi/456.wav  \n",
            "  inflating: content/dataset/narendra modi/755.wav  \n",
            "  inflating: content/dataset/narendra modi/728.wav  \n",
            "  inflating: content/dataset/narendra modi/803.wav  \n",
            "  inflating: content/dataset/narendra modi/35.wav  \n",
            "  inflating: content/dataset/narendra modi/206.wav  \n",
            "  inflating: content/dataset/narendra modi/221.wav  \n",
            "  inflating: content/dataset/narendra modi/118.wav  \n",
            "  inflating: content/dataset/narendra modi/300.wav  \n",
            "  inflating: content/dataset/narendra modi/729.wav  \n",
            "  inflating: content/dataset/narendra modi/659.wav  \n",
            "  inflating: content/dataset/narendra modi/526.wav  \n",
            "  inflating: content/dataset/narendra modi/616.wav  \n",
            "  inflating: content/dataset/narendra modi/704.wav  \n",
            "  inflating: content/dataset/narendra modi/156.wav  \n",
            "  inflating: content/dataset/narendra modi/227.wav  \n",
            "  inflating: content/dataset/narendra modi/27.wav  \n",
            "  inflating: content/dataset/narendra modi/793.wav  \n",
            "  inflating: content/dataset/narendra modi/43.wav  \n",
            "  inflating: content/dataset/narendra modi/662.wav  \n",
            "  inflating: content/dataset/narendra modi/443.wav  \n",
            "  inflating: content/dataset/narendra modi/681.wav  \n",
            "  inflating: content/dataset/narendra modi/761.wav  \n",
            "  inflating: content/dataset/narendra modi/63.wav  \n",
            "  inflating: content/dataset/narendra modi/172.wav  \n",
            "  inflating: content/dataset/narendra modi/12.wav  \n",
            "  inflating: content/dataset/narendra modi/282.wav  \n",
            "  inflating: content/dataset/narendra modi/441.wav  \n",
            "  inflating: content/dataset/narendra modi/805.wav  \n",
            "  inflating: content/dataset/narendra modi/644.wav  \n",
            "  inflating: content/dataset/narendra modi/101.wav  \n",
            "  inflating: content/dataset/narendra modi/509.wav  \n",
            "  inflating: content/dataset/narendra modi/429.wav  \n",
            "  inflating: content/dataset/narendra modi/566.wav  \n",
            "  inflating: content/dataset/narendra modi/188.wav  \n",
            "  inflating: content/dataset/narendra modi/351.wav  \n",
            "  inflating: content/dataset/narendra modi/451.wav  \n",
            "  inflating: content/dataset/narendra modi/20.wav  \n",
            "  inflating: content/dataset/narendra modi/798.wav  \n",
            "  inflating: content/dataset/narendra modi/499.wav  \n",
            "  inflating: content/dataset/narendra modi/653.wav  \n",
            "  inflating: content/dataset/narendra modi/726.wav  \n",
            "  inflating: content/dataset/narendra modi/246.wav  \n",
            "  inflating: content/dataset/narendra modi/695.wav  \n",
            "  inflating: content/dataset/narendra modi/117.wav  \n",
            "  inflating: content/dataset/narendra modi/413.wav  \n",
            "  inflating: content/dataset/narendra modi/434.wav  \n",
            "  inflating: content/dataset/narendra modi/258.wav  \n",
            "  inflating: content/dataset/narendra modi/369.wav  \n",
            "  inflating: content/dataset/narendra modi/30.wav  \n",
            "  inflating: content/dataset/narendra modi/28.wav  \n",
            "  inflating: content/dataset/narendra modi/553.wav  \n",
            "  inflating: content/dataset/narendra modi/438.wav  \n",
            "  inflating: content/dataset/narendra modi/589.wav  \n",
            "  inflating: content/dataset/narendra modi/143.wav  \n",
            "  inflating: content/dataset/narendra modi/194.wav  \n",
            "  inflating: content/dataset/narendra modi/501.wav  \n",
            "  inflating: content/dataset/narendra modi/281.wav  \n",
            "  inflating: content/dataset/narendra modi/432.wav  \n",
            "  inflating: content/dataset/narendra modi/126.wav  \n",
            "  inflating: content/dataset/narendra modi/439.wav  \n",
            "  inflating: content/dataset/narendra modi/569.wav  \n",
            "  inflating: content/dataset/narendra modi/133.wav  \n",
            "  inflating: content/dataset/narendra modi/623.wav  \n",
            "  inflating: content/dataset/narendra modi/718.wav  \n",
            "  inflating: content/dataset/narendra modi/807.wav  \n",
            "  inflating: content/dataset/narendra modi/332.wav  \n",
            "  inflating: content/dataset/narendra modi/69.wav  \n",
            "  inflating: content/dataset/narendra modi/268.wav  \n",
            "  inflating: content/dataset/narendra modi/507.wav  \n",
            "  inflating: content/dataset/narendra modi/233.wav  \n",
            "  inflating: content/dataset/narendra modi/812.wav  \n",
            "  inflating: content/dataset/narendra modi/378.wav  \n",
            "  inflating: content/dataset/narendra modi/112.wav  \n",
            "  inflating: content/dataset/narendra modi/461.wav  \n",
            "  inflating: content/dataset/narendra modi/664.wav  \n",
            "  inflating: content/dataset/narendra modi/671.wav  \n",
            "  inflating: content/dataset/narendra modi/751.wav  \n",
            "  inflating: content/dataset/narendra modi/417.wav  \n",
            "  inflating: content/dataset/narendra modi/11.wav  \n",
            "  inflating: content/dataset/narendra modi/563.wav  \n",
            "  inflating: content/dataset/narendra modi/162.wav  \n",
            "  inflating: content/dataset/narendra modi/799.wav  \n",
            "  inflating: content/dataset/narendra modi/139.wav  \n",
            "  inflating: content/dataset/narendra modi/513.wav  \n",
            "  inflating: content/dataset/narendra modi/327.wav  \n",
            "  inflating: content/dataset/narendra modi/768.wav  \n",
            "  inflating: content/dataset/narendra modi/723.wav  \n",
            "  inflating: content/dataset/narendra modi/53.wav  \n",
            "  inflating: content/dataset/narendra modi/321.wav  \n",
            "  inflating: content/dataset/narendra modi/528.wav  \n",
            "  inflating: content/dataset/narendra modi/697.wav  \n",
            "  inflating: content/dataset/narendra modi/580.wav  \n",
            "  inflating: content/dataset/narendra modi/410.wav  \n",
            "  inflating: content/dataset/narendra modi/487.wav  \n",
            "  inflating: content/dataset/narendra modi/125.wav  \n",
            "  inflating: content/dataset/narendra modi/458.wav  \n",
            "  inflating: content/dataset/narendra modi/272.wav  \n",
            "  inflating: content/dataset/narendra modi/459.wav  \n",
            "  inflating: content/dataset/narendra modi/625.wav  \n",
            "  inflating: content/dataset/narendra modi/643.wav  \n",
            "  inflating: content/dataset/narendra modi/159.wav  \n",
            "  inflating: content/dataset/narendra modi/360.wav  \n",
            "  inflating: content/dataset/narendra modi/696.wav  \n",
            "  inflating: content/dataset/narendra modi/794.wav  \n",
            "  inflating: content/dataset/narendra modi/299.wav  \n",
            "  inflating: content/dataset/narendra modi/554.wav  \n",
            "  inflating: content/dataset/narendra modi/706.wav  \n",
            "  inflating: content/dataset/narendra modi/95.wav  \n",
            "  inflating: content/dataset/narendra modi/640.wav  \n",
            "  inflating: content/dataset/narendra modi/347.wav  \n",
            "  inflating: content/dataset/narendra modi/110.wav  \n",
            "  inflating: content/dataset/narendra modi/479.wav  \n",
            "  inflating: content/dataset/narendra modi/447.wav  \n",
            "  inflating: content/dataset/narendra modi/637.wav  \n",
            "  inflating: content/dataset/narendra modi/273.wav  \n",
            "  inflating: content/dataset/narendra modi/762.wav  \n",
            "  inflating: content/dataset/narendra modi/790.wav  \n",
            "  inflating: content/dataset/narendra modi/670.wav  \n",
            "  inflating: content/dataset/narendra modi/517.wav  \n",
            "  inflating: content/dataset/narendra modi/717.wav  \n",
            "  inflating: content/dataset/narendra modi/250.wav  \n",
            "  inflating: content/dataset/narendra modi/538.wav  \n",
            "  inflating: content/dataset/narendra modi/289.wav  \n",
            "  inflating: content/dataset/narendra modi/386.wav  \n",
            "  inflating: content/dataset/narendra modi/195.wav  \n",
            "  inflating: content/dataset/narendra modi/787.wav  \n",
            "  inflating: content/dataset/narendra modi/687.wav  \n",
            "  inflating: content/dataset/narendra modi/602.wav  \n",
            "  inflating: content/dataset/narendra modi/714.wav  \n",
            "  inflating: content/dataset/narendra modi/54.wav  \n",
            "  inflating: content/dataset/narendra modi/686.wav  \n",
            "  inflating: content/dataset/narendra modi/314.wav  \n",
            "  inflating: content/dataset/narendra modi/207.wav  \n",
            "  inflating: content/dataset/narendra modi/444.wav  \n",
            "  inflating: content/dataset/narendra modi/452.wav  \n",
            "  inflating: content/dataset/narendra modi/223.wav  \n",
            "  inflating: content/dataset/narendra modi/113.wav  \n",
            "  inflating: content/dataset/narendra modi/116.wav  \n",
            "  inflating: content/dataset/narendra modi/411.wav  \n",
            "  inflating: content/dataset/narendra modi/4.wav  \n",
            "  inflating: content/dataset/narendra modi/534.wav  \n",
            "  inflating: content/dataset/narendra modi/259.wav  \n",
            "  inflating: content/dataset/narendra modi/325.wav  \n",
            "  inflating: content/dataset/narendra modi/153.wav  \n",
            "  inflating: content/dataset/narendra modi/482.wav  \n",
            "  inflating: content/dataset/narendra modi/40.wav  \n",
            "  inflating: content/dataset/narendra modi/565.wav  \n",
            "  inflating: content/dataset/narendra modi/317.wav  \n",
            "  inflating: content/dataset/narendra modi/251.wav  \n",
            "  inflating: content/dataset/narendra modi/25.wav  \n",
            "  inflating: content/dataset/narendra modi/770.wav  \n",
            "  inflating: content/dataset/narendra modi/748.wav  \n",
            "  inflating: content/dataset/narendra modi/396.wav  \n",
            "  inflating: content/dataset/narendra modi/785.wav  \n",
            "  inflating: content/dataset/narendra modi/61.wav  \n",
            "  inflating: content/dataset/narendra modi/270.wav  \n",
            "  inflating: content/dataset/narendra modi/98.wav  \n",
            "  inflating: content/dataset/narendra modi/135.wav  \n",
            "  inflating: content/dataset/narendra modi/678.wav  \n",
            "  inflating: content/dataset/narendra modi/631.wav  \n",
            "  inflating: content/dataset/narendra modi/86.wav  \n",
            "  inflating: content/dataset/narendra modi/108.wav  \n",
            "  inflating: content/dataset/narendra modi/127.wav  \n",
            "  inflating: content/dataset/narendra modi/532.wav  \n",
            "  inflating: content/dataset/narendra modi/764.wav  \n",
            "  inflating: content/dataset/narendra modi/699.wav  \n",
            "  inflating: content/dataset/narendra modi/784.wav  \n",
            "  inflating: content/dataset/narendra modi/222.wav  \n",
            "  inflating: content/dataset/narendra modi/366.wav  \n",
            "  inflating: content/dataset/narendra modi/138.wav  \n",
            "  inflating: content/dataset/narendra modi/657.wav  \n",
            "  inflating: content/dataset/narendra modi/99.wav  \n",
            "  inflating: content/dataset/narendra modi/363.wav  \n",
            "  inflating: content/dataset/narendra modi/401.wav  \n",
            "  inflating: content/dataset/narendra modi/636.wav  \n",
            "  inflating: content/dataset/narendra modi/298.wav  \n",
            "  inflating: content/dataset/narendra modi/689.wav  \n",
            "  inflating: content/dataset/narendra modi/383.wav  \n",
            "  inflating: content/dataset/narendra modi/789.wav  \n",
            "  inflating: content/dataset/narendra modi/433.wav  \n",
            "  inflating: content/dataset/narendra modi/737.wav  \n",
            "  inflating: content/dataset/narendra modi/88.wav  \n",
            "  inflating: content/dataset/narendra modi/570.wav  \n",
            "  inflating: content/dataset/narendra modi/311.wav  \n",
            "  inflating: content/dataset/narendra modi/301.wav  \n",
            "  inflating: content/dataset/narendra modi/391.wav  \n",
            "  inflating: content/dataset/narendra modi/215.wav  \n",
            "  inflating: content/dataset/narendra modi/368.wav  \n",
            "  inflating: content/dataset/narendra modi/85.wav  \n",
            "  inflating: content/dataset/narendra modi/585.wav  \n",
            "  inflating: content/dataset/narendra modi/274.wav  \n",
            "  inflating: content/dataset/narendra modi/524.wav  \n",
            "  inflating: content/dataset/narendra modi/297.wav  \n",
            "  inflating: content/dataset/narendra modi/682.wav  \n",
            "  inflating: content/dataset/narendra modi/217.wav  \n",
            "  inflating: content/dataset/narendra modi/78.wav  \n",
            "  inflating: content/dataset/narendra modi/362.wav  \n",
            "  inflating: content/dataset/narendra modi/557.wav  \n",
            "  inflating: content/dataset/narendra modi/520.wav  \n",
            "  inflating: content/dataset/narendra modi/649.wav  \n",
            "  inflating: content/dataset/narendra modi/384.wav  \n",
            "  inflating: content/dataset/narendra modi/47.wav  \n",
            "  inflating: content/dataset/narendra modi/769.wav  \n",
            "  inflating: content/dataset/narendra modi/16.wav  \n",
            "  inflating: content/dataset/narendra modi/56.wav  \n",
            "  inflating: content/dataset/narendra modi/393.wav  \n",
            "  inflating: content/dataset/narendra modi/477.wav  \n",
            "  inflating: content/dataset/narendra modi/134.wav  \n",
            "  inflating: content/dataset/narendra modi/791.wav  \n",
            "  inflating: content/dataset/narendra modi/688.wav  \n",
            "  inflating: content/dataset/narendra modi/531.wav  \n",
            "  inflating: content/dataset/narendra modi/421.wav  \n",
            "  inflating: content/dataset/narendra modi/652.wav  \n",
            "  inflating: content/dataset/narendra modi/470.wav  \n",
            "  inflating: content/dataset/narendra modi/75.wav  \n",
            "  inflating: content/dataset/narendra modi/345.wav  \n",
            "  inflating: content/dataset/narendra modi/595.wav  \n",
            "  inflating: content/dataset/narendra modi/18.wav  \n",
            "  inflating: content/dataset/narendra modi/654.wav  \n",
            "  inflating: content/dataset/narendra modi/406.wav  \n",
            "  inflating: content/dataset/narendra modi/52.wav  \n",
            "  inflating: content/dataset/narendra modi/231.wav  \n"
          ]
        }
      ]
    },
    {
      "cell_type": "code",
      "metadata": {
        "id": "8QERjst3H_Mm"
      },
      "source": [
        "!mv ./content/* ./"
      ],
      "execution_count": 3,
      "outputs": []
    },
    {
      "cell_type": "code",
      "metadata": {
        "id": "6DOANRuqIHuB"
      },
      "source": [
        "!rm -r ./content"
      ],
      "execution_count": 4,
      "outputs": []
    },
    {
      "cell_type": "code",
      "metadata": {
        "id": "z_zpKaDrIKWl"
      },
      "source": [
        "import tensorflow as tf\n",
        "import numpy as np\n",
        "import librosa\n",
        "import os \n",
        "import pandas as pd\n",
        "import numpy as np\n",
        "import soundfile as sf\n",
        "import IPython\n",
        "import matplotlib.pyplot as plt\n"
      ],
      "execution_count": 5,
      "outputs": []
    },
    {
      "cell_type": "code",
      "metadata": {
        "id": "h__5-SbMl_BT"
      },
      "source": [
        "dataset_frame = pd.read_csv('./dataset/target.csv')"
      ],
      "execution_count": 6,
      "outputs": []
    },
    {
      "cell_type": "code",
      "metadata": {
        "id": "Sr4gtCk3mOXb"
      },
      "source": [
        "dataset_frame.rename(columns={'Unnamed: 0': 'filename'}, inplace=True)"
      ],
      "execution_count": 7,
      "outputs": []
    },
    {
      "cell_type": "code",
      "metadata": {
        "id": "nZKcuQNHm4Kj"
      },
      "source": [
        "dataset_frame['filename'] = dataset_frame['filename'].apply(lambda x: f'./dataset/narendra modi/{x}.wav')"
      ],
      "execution_count": 8,
      "outputs": []
    },
    {
      "cell_type": "code",
      "metadata": {
        "id": "3_GyK8-OCywk"
      },
      "source": [
        "def convert_string_to_array(s):\n",
        "  y = list(map(lambda x : float(x), s[1:-1].split(',') ))\n",
        "  kernel = 255\n",
        "  res = []\n",
        "  for i in range(0, len(y), kernel):\n",
        "    if sum(y[i: i+kernel]):\n",
        "      res.append(1)\n",
        "    else:\n",
        "      res.append(0)\n",
        "  return res"
      ],
      "execution_count": 9,
      "outputs": []
    },
    {
      "cell_type": "code",
      "metadata": {
        "id": "uopyJO2GngZE"
      },
      "source": [
        "dataset_frame['y'] = dataset_frame['y'].apply(convert_string_to_array)"
      ],
      "execution_count": 10,
      "outputs": []
    },
    {
      "cell_type": "code",
      "metadata": {
        "colab": {
          "base_uri": "https://localhost:8080/",
          "height": 419
        },
        "id": "YS0z6y6jKfpx",
        "outputId": "5c933169-634e-4d9b-e507-5db03597d4db"
      },
      "source": [
        "dataset_frame"
      ],
      "execution_count": 11,
      "outputs": [
        {
          "output_type": "execute_result",
          "data": {
            "text/html": [
              "<div>\n",
              "<style scoped>\n",
              "    .dataframe tbody tr th:only-of-type {\n",
              "        vertical-align: middle;\n",
              "    }\n",
              "\n",
              "    .dataframe tbody tr th {\n",
              "        vertical-align: top;\n",
              "    }\n",
              "\n",
              "    .dataframe thead th {\n",
              "        text-align: right;\n",
              "    }\n",
              "</style>\n",
              "<table border=\"1\" class=\"dataframe\">\n",
              "  <thead>\n",
              "    <tr style=\"text-align: right;\">\n",
              "      <th></th>\n",
              "      <th>filename</th>\n",
              "      <th>y</th>\n",
              "    </tr>\n",
              "  </thead>\n",
              "  <tbody>\n",
              "    <tr>\n",
              "      <th>0</th>\n",
              "      <td>./dataset/narendra modi/0.wav</td>\n",
              "      <td>[0, 0, 0, 0, 0, 0, 0, 0, 0, 0, 0, 0, 0, 0, 0, ...</td>\n",
              "    </tr>\n",
              "    <tr>\n",
              "      <th>1</th>\n",
              "      <td>./dataset/narendra modi/1.wav</td>\n",
              "      <td>[0, 0, 0, 0, 0, 0, 0, 0, 0, 0, 0, 0, 0, 0, 0, ...</td>\n",
              "    </tr>\n",
              "    <tr>\n",
              "      <th>2</th>\n",
              "      <td>./dataset/narendra modi/2.wav</td>\n",
              "      <td>[0, 0, 0, 0, 0, 0, 0, 0, 0, 0, 0, 0, 0, 0, 0, ...</td>\n",
              "    </tr>\n",
              "    <tr>\n",
              "      <th>3</th>\n",
              "      <td>./dataset/narendra modi/3.wav</td>\n",
              "      <td>[0, 0, 0, 0, 0, 0, 0, 0, 0, 0, 0, 0, 0, 0, 0, ...</td>\n",
              "    </tr>\n",
              "    <tr>\n",
              "      <th>4</th>\n",
              "      <td>./dataset/narendra modi/4.wav</td>\n",
              "      <td>[0, 0, 0, 0, 0, 0, 0, 0, 0, 0, 0, 0, 0, 0, 0, ...</td>\n",
              "    </tr>\n",
              "    <tr>\n",
              "      <th>...</th>\n",
              "      <td>...</td>\n",
              "      <td>...</td>\n",
              "    </tr>\n",
              "    <tr>\n",
              "      <th>811</th>\n",
              "      <td>./dataset/narendra modi/811.wav</td>\n",
              "      <td>[0, 0, 0, 0, 0, 0, 0, 0, 0, 1, 1, 1, 1, 1, 1, ...</td>\n",
              "    </tr>\n",
              "    <tr>\n",
              "      <th>812</th>\n",
              "      <td>./dataset/narendra modi/812.wav</td>\n",
              "      <td>[0, 0, 0, 0, 0, 0, 0, 0, 0, 0, 0, 0, 0, 0, 0, ...</td>\n",
              "    </tr>\n",
              "    <tr>\n",
              "      <th>813</th>\n",
              "      <td>./dataset/narendra modi/813.wav</td>\n",
              "      <td>[0, 0, 0, 0, 0, 0, 0, 0, 0, 0, 0, 0, 0, 0, 0, ...</td>\n",
              "    </tr>\n",
              "    <tr>\n",
              "      <th>814</th>\n",
              "      <td>./dataset/narendra modi/814.wav</td>\n",
              "      <td>[0, 0, 0, 0, 0, 0, 0, 0, 0, 0, 0, 0, 0, 0, 0, ...</td>\n",
              "    </tr>\n",
              "    <tr>\n",
              "      <th>815</th>\n",
              "      <td>./dataset/narendra modi/815.wav</td>\n",
              "      <td>[0, 0, 0, 0, 0, 0, 0, 0, 0, 0, 0, 0, 0, 0, 0, ...</td>\n",
              "    </tr>\n",
              "  </tbody>\n",
              "</table>\n",
              "<p>816 rows × 2 columns</p>\n",
              "</div>"
            ],
            "text/plain": [
              "                            filename                                                  y\n",
              "0      ./dataset/narendra modi/0.wav  [0, 0, 0, 0, 0, 0, 0, 0, 0, 0, 0, 0, 0, 0, 0, ...\n",
              "1      ./dataset/narendra modi/1.wav  [0, 0, 0, 0, 0, 0, 0, 0, 0, 0, 0, 0, 0, 0, 0, ...\n",
              "2      ./dataset/narendra modi/2.wav  [0, 0, 0, 0, 0, 0, 0, 0, 0, 0, 0, 0, 0, 0, 0, ...\n",
              "3      ./dataset/narendra modi/3.wav  [0, 0, 0, 0, 0, 0, 0, 0, 0, 0, 0, 0, 0, 0, 0, ...\n",
              "4      ./dataset/narendra modi/4.wav  [0, 0, 0, 0, 0, 0, 0, 0, 0, 0, 0, 0, 0, 0, 0, ...\n",
              "..                               ...                                                ...\n",
              "811  ./dataset/narendra modi/811.wav  [0, 0, 0, 0, 0, 0, 0, 0, 0, 1, 1, 1, 1, 1, 1, ...\n",
              "812  ./dataset/narendra modi/812.wav  [0, 0, 0, 0, 0, 0, 0, 0, 0, 0, 0, 0, 0, 0, 0, ...\n",
              "813  ./dataset/narendra modi/813.wav  [0, 0, 0, 0, 0, 0, 0, 0, 0, 0, 0, 0, 0, 0, 0, ...\n",
              "814  ./dataset/narendra modi/814.wav  [0, 0, 0, 0, 0, 0, 0, 0, 0, 0, 0, 0, 0, 0, 0, ...\n",
              "815  ./dataset/narendra modi/815.wav  [0, 0, 0, 0, 0, 0, 0, 0, 0, 0, 0, 0, 0, 0, 0, ...\n",
              "\n",
              "[816 rows x 2 columns]"
            ]
          },
          "metadata": {},
          "execution_count": 11
        }
      ]
    },
    {
      "cell_type": "code",
      "metadata": {
        "id": "j94b65WpAk6H"
      },
      "source": [
        "def dataloader(total):\n",
        "  item = 0\n",
        "  while item < total:\n",
        "    audio, sr = librosa.load(dataset_frame['filename'][item])\n",
        "    if len(audio) < 220500:\n",
        "      audio = np.pad(audio, (0,220500-len(audio)), 'constant', constant_values=0)\n",
        "    yield audio.reshape((220500, 1)), dataset_frame['y'][item]\n",
        "    item += 1"
      ],
      "execution_count": 12,
      "outputs": []
    },
    {
      "cell_type": "code",
      "metadata": {
        "id": "nnhvfYnqCNjE"
      },
      "source": [
        "ds_genrator = tf.data.Dataset.from_generator(dataloader, args=[816], output_types=(tf.float64, tf.float64),\n",
        "                                             output_shapes=(\n",
        "                                                            tf.TensorShape((220500, 1)),\n",
        "                                                            tf.TensorShape((865))))"
      ],
      "execution_count": 13,
      "outputs": []
    },
    {
      "cell_type": "code",
      "metadata": {
        "id": "767z672gwdgW"
      },
      "source": [
        "model0 = tf.keras.Sequential()\n",
        "model0.add(tf.keras.layers.Conv1D(120, 15, 4, padding='valid'))\n",
        "model0.add(tf.keras.layers.Conv1D(252, 36, 7, padding='valid'))\n",
        "model0.add(tf.keras.layers.Conv1D(1025, 90, 9, padding='valid'))\n",
        "model0.add(tf.keras.layers.LSTM(1025, activation='tanh', return_sequences=True))\n",
        "model0.add(tf.keras.layers.Dense(1025, activation='relu', kernel_regularizer=tf.keras.regularizers.L2(0.1)))\n",
        "model0.add(tf.keras.layers.LSTM(1025, activation='tanh', return_sequences=True))\n",
        "model0.add(tf.keras.layers.Dense(1025, activation='relu', kernel_regularizer=tf.keras.regularizers.L2(0.1)))\n",
        "model0.add(tf.keras.layers.TimeDistributed(tf.keras.layers.Dense(1, activation='sigmoid', kernel_regularizer=tf.keras.regularizers.L2(0.1))))"
      ],
      "execution_count": 33,
      "outputs": []
    },
    {
      "cell_type": "code",
      "metadata": {
        "colab": {
          "base_uri": "https://localhost:8080/"
        },
        "id": "n3RVr9D9J8bI",
        "outputId": "b55a951b-2b16-426d-dee0-e48abe4cb880"
      },
      "source": [
        "model0.build([None, 220500, 1])\n",
        "model0.summary()"
      ],
      "execution_count": 34,
      "outputs": [
        {
          "output_type": "stream",
          "name": "stdout",
          "text": [
            "Model: \"sequential_2\"\n",
            "_________________________________________________________________\n",
            "Layer (type)                 Output Shape              Param #   \n",
            "=================================================================\n",
            "conv1d_6 (Conv1D)            (None, 55122, 120)        1920      \n",
            "_________________________________________________________________\n",
            "conv1d_7 (Conv1D)            (None, 7870, 252)         1088892   \n",
            "_________________________________________________________________\n",
            "conv1d_8 (Conv1D)            (None, 865, 1025)         23248025  \n",
            "_________________________________________________________________\n",
            "lstm_4 (LSTM)                (None, 865, 1025)         8409100   \n",
            "_________________________________________________________________\n",
            "dense_6 (Dense)              (None, 865, 1025)         1051650   \n",
            "_________________________________________________________________\n",
            "lstm_5 (LSTM)                (None, 865, 1025)         8409100   \n",
            "_________________________________________________________________\n",
            "dense_7 (Dense)              (None, 865, 1025)         1051650   \n",
            "_________________________________________________________________\n",
            "time_distributed_2 (TimeDist (None, 865, 1)            1026      \n",
            "=================================================================\n",
            "Total params: 43,261,363\n",
            "Trainable params: 43,261,363\n",
            "Non-trainable params: 0\n",
            "_________________________________________________________________\n"
          ]
        }
      ]
    },
    {
      "cell_type": "code",
      "metadata": {
        "id": "l5fN65SPdVtJ"
      },
      "source": [
        "# model0.compile(optimizer= 'adam', loss='mse', metrics=['mse'])\n",
        "model0.compile(loss='categorical_crossentropy', optimizer='adam', metrics=['accuracy', 'Precision', 'AUC', 'Recall', 'mse'] )"
      ],
      "execution_count": 35,
      "outputs": []
    },
    {
      "cell_type": "code",
      "metadata": {
        "colab": {
          "base_uri": "https://localhost:8080/"
        },
        "id": "ye52yOaw1CKm",
        "outputId": "26abdcec-bb88-4c5a-c79a-5364178e3758"
      },
      "source": [
        "history = model0.fit(x= ds_genrator.batch(64), batch_size=64, epochs=20, verbose=1 )"
      ],
      "execution_count": null,
      "outputs": [
        {
          "output_type": "stream",
          "name": "stdout",
          "text": [
            "Epoch 1/20\n",
            "13/13 [==============================] - 181s 14s/step - loss: 2202.3259 - accuracy: 0.4001 - precision: 0.3523 - auc: 0.5104 - recall: 0.8545 - mse: 0.5219\n",
            "Epoch 2/20\n",
            "13/13 [==============================] - 156s 12s/step - loss: 2148.5459 - accuracy: 0.3496 - precision: 0.3496 - auc: 0.5000 - recall: 1.0000 - mse: 0.6504\n",
            "Epoch 3/20\n",
            "13/13 [==============================] - 156s 12s/step - loss: 2121.4231 - accuracy: 0.3496 - precision: 0.3496 - auc: 0.5000 - recall: 1.0000 - mse: 0.6504\n",
            "Epoch 4/20\n",
            " 6/13 [============>.................] - ETA: 1:25 - loss: 2066.3826 - accuracy: 0.3423 - precision: 0.3423 - auc: 0.5000 - recall: 1.0000 - mse: 0.6577"
          ]
        }
      ]
    },
    {
      "cell_type": "code",
      "metadata": {
        "id": "kkol1TN-K_PX"
      },
      "source": [
        "for i in ds_genrator.take(1):\n",
        "  x_= i[0]\n",
        "  y = i[1]"
      ],
      "execution_count": 23,
      "outputs": []
    },
    {
      "cell_type": "code",
      "metadata": {
        "id": "uYOXMEkvQI4Q"
      },
      "source": [
        "y_ = model0.predict(ds_genrator.batch(1).take(1), batch_size=1)"
      ],
      "execution_count": 24,
      "outputs": []
    },
    {
      "cell_type": "code",
      "metadata": {
        "colab": {
          "base_uri": "https://localhost:8080/",
          "height": 282
        },
        "id": "z6y_oj5oQrwO",
        "outputId": "3573af86-d439-40f0-d56b-48030d0363d5"
      },
      "source": [
        "plt.plot(x_, color='red')"
      ],
      "execution_count": 25,
      "outputs": [
        {
          "output_type": "execute_result",
          "data": {
            "text/plain": [
              "[<matplotlib.lines.Line2D at 0x7fbea4bfe850>]"
            ]
          },
          "metadata": {},
          "execution_count": 25
        },
        {
          "output_type": "display_data",
          "data": {
            "image/png": "[encoded data removed]",
            "text/plain": [
              "<Figure size 432x288 with 1 Axes>"
            ]
          },
          "metadata": {
            "needs_background": "light"
          }
        }
      ]
    },
    {
      "cell_type": "code",
      "metadata": {
        "colab": {
          "base_uri": "https://localhost:8080/",
          "height": 282
        },
        "id": "gVYwism0Rhwi",
        "outputId": "20254ff3-b0ed-4a20-ee95-3b523b96a395"
      },
      "source": [
        "plt.plot(y, color='green', linestyle='dotted')"
      ],
      "execution_count": 26,
      "outputs": [
        {
          "output_type": "execute_result",
          "data": {
            "text/plain": [
              "[<matplotlib.lines.Line2D at 0x7fbea4d148d0>]"
            ]
          },
          "metadata": {},
          "execution_count": 26
        },
        {
          "output_type": "display_data",
          "data": {
            "image/png": "[encoded data removed]",
            "text/plain": [
              "<Figure size 432x288 with 1 Axes>"
            ]
          },
          "metadata": {
            "needs_background": "light"
          }
        }
      ]
    },
    {
      "cell_type": "code",
      "metadata": {
        "colab": {
          "base_uri": "https://localhost:8080/",
          "height": 282
        },
        "id": "xjN9CfZyRES2",
        "outputId": "6028c550-6315-4a1f-d1ae-8bd6b8475584"
      },
      "source": [
        "plt.plot(y_[0], color='blue')"
      ],
      "execution_count": 27,
      "outputs": [
        {
          "output_type": "execute_result",
          "data": {
            "text/plain": [
              "[<matplotlib.lines.Line2D at 0x7fbea118e650>]"
            ]
          },
          "metadata": {},
          "execution_count": 27
        },
        {
          "output_type": "display_data",
          "data": {
            "image/png": "[encoded data removed]",
            "text/plain": [
              "<Figure size 432x288 with 1 Axes>"
            ]
          },
          "metadata": {
            "needs_background": "light"
          }
        }
      ]
    },
    {
      "cell_type": "code",
      "metadata": {
        "colab": {
          "base_uri": "https://localhost:8080/",
          "height": 282
        },
        "id": "pD4onU2rRSkD",
        "outputId": "cda545ea-a045-491b-e3c6-5c5a6c5c7efa"
      },
      "source": [
        "plt.plot(history.history['loss'])"
      ],
      "execution_count": 28,
      "outputs": [
        {
          "output_type": "execute_result",
          "data": {
            "text/plain": [
              "[<matplotlib.lines.Line2D at 0x7fbea10fecd0>]"
            ]
          },
          "metadata": {},
          "execution_count": 28
        },
        {
          "output_type": "display_data",
          "data": {
            "image/png": "[encoded data removed]",
            "text/plain": [
              "<Figure size 432x288 with 1 Axes>"
            ]
          },
          "metadata": {
            "needs_background": "light"
          }
        }
      ]
    },
    {
      "cell_type": "code",
      "metadata": {
        "colab": {
          "base_uri": "https://localhost:8080/"
        },
        "id": "V0cFrDzGR8DS",
        "outputId": "38536b92-d261-499b-91da-a46dbbd3cdb9"
      },
      "source": [
        "sum(y)"
      ],
      "execution_count": 29,
      "outputs": [
        {
          "output_type": "execute_result",
          "data": {
            "text/plain": [
              "<tf.Tensor: shape=(), dtype=float64, numpy=349.0>"
            ]
          },
          "metadata": {},
          "execution_count": 29
        }
      ]
    },
    {
      "cell_type": "code",
      "metadata": {
        "colab": {
          "base_uri": "https://localhost:8080/"
        },
        "id": "2qhxBnXvXgRg",
        "outputId": "05216862-5b9e-46a7-df3f-fe56d4155ad8"
      },
      "source": [
        "y.shape"
      ],
      "execution_count": 30,
      "outputs": [
        {
          "output_type": "execute_result",
          "data": {
            "text/plain": [
              "TensorShape([865])"
            ]
          },
          "metadata": {},
          "execution_count": 30
        }
      ]
    },
    {
      "cell_type": "code",
      "metadata": {
        "colab": {
          "base_uri": "https://localhost:8080/"
        },
        "id": "5UScgxM4X2YS",
        "outputId": "e1f73de0-e340-4904-aaa1-42b05a9c4d90"
      },
      "source": [
        "865 - 349"
      ],
      "execution_count": 31,
      "outputs": [
        {
          "output_type": "execute_result",
          "data": {
            "text/plain": [
              "516"
            ]
          },
          "metadata": {},
          "execution_count": 31
        }
      ]
    },
    {
      "cell_type": "code",
      "metadata": {
        "id": "PP0_rwzUX5fn"
      },
      "source": [
        ""
      ],
      "execution_count": 31,
      "outputs": []
    }
  ]
}